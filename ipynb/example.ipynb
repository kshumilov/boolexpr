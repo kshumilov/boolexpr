{
 "cells": [
  {
   "cell_type": "code",
   "id": "initial_id",
   "metadata": {
    "ExecuteTime": {
     "end_time": "2025-09-10T18:11:05.965674Z",
     "start_time": "2025-09-10T18:11:05.915304Z"
    }
   },
   "source": [
    "from rich.jupyter import print\n",
    "from rich import inspect\n",
    "%load_ext rich"
   ],
   "outputs": [],
   "execution_count": 1
  },
  {
   "metadata": {
    "ExecuteTime": {
     "end_time": "2025-09-10T18:11:07.461768Z",
     "start_time": "2025-09-10T18:11:07.251960Z"
    }
   },
   "cell_type": "code",
   "source": [
    "from boolexpr.universe import Universe\n",
    "\n",
    "universe = Universe()\n",
    "parser = universe.get_parser()\n",
    "\n",
    "# Parse boolean expression\n",
    "expression = parser(\"NOT(A * -B AND (C + D) OR (A -> B) & (!C | ~D))\")\n",
    "universe.show(expression)"
   ],
   "id": "b7780b8cf1f0ef4b",
   "outputs": [
    {
     "data": {
      "text/plain": [
       "Not\n",
       "└── Or\n",
       "    ├── And{A, ¬B, ...}\n",
       "    │   └── C | D\n",
       "    └── And\n",
       "        ├── ¬C | ¬D\n",
       "        └── A -> B\n"
      ],
      "text/html": [
       "<pre style=\"white-space:pre;overflow-x:auto;line-height:normal;font-family:Menlo,'DejaVu Sans Mono',consolas,'Courier New',monospace\">Not\n",
       "└── Or\n",
       "    ├── And{A, ¬B, ...}\n",
       "    │   └── C | D\n",
       "    └── And\n",
       "        ├── ¬C | ¬D\n",
       "        └── A -&gt; B\n",
       "</pre>\n"
      ]
     },
     "execution_count": 2,
     "metadata": {},
     "output_type": "execute_result"
    }
   ],
   "execution_count": 2
  },
  {
   "metadata": {
    "ExecuteTime": {
     "end_time": "2025-09-10T18:11:09.281288Z",
     "start_time": "2025-09-10T18:11:09.275645Z"
    }
   },
   "cell_type": "code",
   "source": [
    "# Display its prime implicants\n",
    "universe.show(expression.prime_implicants(), inline_size=5)"
   ],
   "id": "5eb29317e6b4fe88",
   "outputs": [
    {
     "data": {
      "text/plain": [
       "Or\n",
       "├── ¬A & C & D\n",
       "├── And{A, ¬B, ¬C, ¬D}\n",
       "└── B & C & D\n"
      ],
      "text/html": [
       "<pre style=\"white-space:pre;overflow-x:auto;line-height:normal;font-family:Menlo,'DejaVu Sans Mono',consolas,'Courier New',monospace\">Or\n",
       "├── ¬A &amp; C &amp; D\n",
       "├── And{A, ¬B, ¬C, ¬D}\n",
       "└── B &amp; C &amp; D\n",
       "</pre>\n"
      ]
     },
     "execution_count": 3,
     "metadata": {},
     "output_type": "execute_result"
    }
   ],
   "execution_count": 3
  },
  {
   "metadata": {
    "ExecuteTime": {
     "end_time": "2025-09-10T18:11:10.301878Z",
     "start_time": "2025-09-10T18:11:10.295720Z"
    }
   },
   "cell_type": "code",
   "source": [
    "from boolexpr.expression.node.transform import tseitin\n",
    "\n",
    "top_lit, constraints = tseitin(expression.node, universe.get_next_node)\n",
    "\n",
    "universe.show_forest(constraints, title='Tseitin Constraints')"
   ],
   "id": "363b953c741f1fb2",
   "outputs": [
    {
     "data": {
      "text/plain": [
       "Tseitin Constraints\n",
       "├── v[4] := A -> B\n",
       "├── v[5] := ¬C | ¬D\n",
       "├── v[6] := v[5] & v[4]\n",
       "├── v[7] := C | D\n",
       "├── v[8] := A & ¬B & v[7]\n",
       "├── v[9] := v[8] | v[6]\n",
       "└── v[10] := ¬v[9]\n"
      ],
      "text/html": [
       "<pre style=\"white-space:pre;overflow-x:auto;line-height:normal;font-family:Menlo,'DejaVu Sans Mono',consolas,'Courier New',monospace\">Tseitin Constraints\n",
       "├── v[4] := A -&gt; B\n",
       "├── v[5] := ¬C | ¬D\n",
       "├── v[6] := v[5] &amp; v[4]\n",
       "├── v[7] := C | D\n",
       "├── v[8] := A &amp; ¬B &amp; v[7]\n",
       "├── v[9] := v[8] | v[6]\n",
       "└── v[10] := ¬v[9]\n",
       "</pre>\n"
      ]
     },
     "execution_count": 4,
     "metadata": {},
     "output_type": "execute_result"
    }
   ],
   "execution_count": 4
  },
  {
   "metadata": {
    "ExecuteTime": {
     "end_time": "2025-09-10T18:11:12.604870Z",
     "start_time": "2025-09-10T18:11:12.601475Z"
    }
   },
   "cell_type": "code",
   "source": [
    "from boolexpr.expression.cardinality import AtLeastOp\n",
    "nodes = tuple(universe.node(c) for c in 'ABCDE')\n",
    "atleast = AtLeastOp(3, nodes)"
   ],
   "id": "ee82df8c7023a722",
   "outputs": [],
   "execution_count": 5
  },
  {
   "metadata": {
    "ExecuteTime": {
     "end_time": "2025-09-10T18:11:13.929569Z",
     "start_time": "2025-09-10T18:11:13.924819Z"
    }
   },
   "cell_type": "code",
   "source": "universe.show(atleast)",
   "id": "9ae48af0eb65a59e",
   "outputs": [
    {
     "data": {
      "text/plain": [
       "AtLeast[3]{A, B, C, D, E}\n"
      ],
      "text/html": [
       "<pre style=\"white-space:pre;overflow-x:auto;line-height:normal;font-family:Menlo,'DejaVu Sans Mono',consolas,'Courier New',monospace\">AtLeast[3]{A, B, C, D, E}\n",
       "</pre>\n"
      ]
     },
     "execution_count": 6,
     "metadata": {},
     "output_type": "execute_result"
    }
   ],
   "execution_count": 6
  }
 ],
 "metadata": {
  "kernelspec": {
   "display_name": "Python 3",
   "language": "python",
   "name": "python3"
  },
  "language_info": {
   "codemirror_mode": {
    "name": "ipython",
    "version": 2
   },
   "file_extension": ".py",
   "mimetype": "text/x-python",
   "name": "python",
   "nbconvert_exporter": "python",
   "pygments_lexer": "ipython2",
   "version": "2.7.6"
  }
 },
 "nbformat": 4,
 "nbformat_minor": 5
}
