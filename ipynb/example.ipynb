{
 "cells": [
  {
   "cell_type": "code",
   "id": "initial_id",
   "metadata": {
    "ExecuteTime": {
     "end_time": "2025-09-09T01:06:42.366744Z",
     "start_time": "2025-09-09T01:06:42.316632Z"
    }
   },
   "source": [
    "from rich.jupyter import print\n",
    "from rich import inspect\n",
    "%load_ext rich"
   ],
   "outputs": [],
   "execution_count": 1
  },
  {
   "metadata": {
    "ExecuteTime": {
     "end_time": "2025-09-09T01:06:48.943358Z",
     "start_time": "2025-09-09T01:06:48.859780Z"
    }
   },
   "cell_type": "code",
   "source": [
    "from boolexpr.universe import Universe\n",
    "\n",
    "universe = Universe()\n",
    "parser = universe.get_parser()\n",
    "\n",
    "# Parse boolean expression\n",
    "expression = parser(\"~(A * ~B AND (C + D) OR (A -> B) & (!C | NOT D))\")\n",
    "universe.show(expression)"
   ],
   "id": "b7780b8cf1f0ef4b",
   "outputs": [
    {
     "data": {
      "text/plain": [
       "Not\n",
       "└── Or\n",
       "    ├── And{A, ¬B, ...}\n",
       "    │   └── Or{C, D}\n",
       "    └── And\n",
       "        ├── Or{¬C, ¬D}\n",
       "        └── Implies{A, B}\n"
      ],
      "text/html": [
       "<pre style=\"white-space:pre;overflow-x:auto;line-height:normal;font-family:Menlo,'DejaVu Sans Mono',consolas,'Courier New',monospace\">Not\n",
       "└── Or\n",
       "    ├── And{A, ¬B, ...}\n",
       "    │   └── Or{C, D}\n",
       "    └── And\n",
       "        ├── Or{¬C, ¬D}\n",
       "        └── Implies{A, B}\n",
       "</pre>\n"
      ]
     },
     "execution_count": 3,
     "metadata": {},
     "output_type": "execute_result"
    }
   ],
   "execution_count": 3
  },
  {
   "metadata": {
    "ExecuteTime": {
     "end_time": "2025-09-09T01:06:49.794562Z",
     "start_time": "2025-09-09T01:06:49.789616Z"
    }
   },
   "cell_type": "code",
   "source": [
    "# Display its prime implicants\n",
    "universe.show(expression.prime_implicants())"
   ],
   "id": "5eb29317e6b4fe88",
   "outputs": [
    {
     "data": {
      "text/plain": [
       "Or\n",
       "├── And{¬A, C, D}\n",
       "├── And{A, ¬B, ¬C, ¬D}\n",
       "└── And{B, C, D}\n"
      ],
      "text/html": [
       "<pre style=\"white-space:pre;overflow-x:auto;line-height:normal;font-family:Menlo,'DejaVu Sans Mono',consolas,'Courier New',monospace\">Or\n",
       "├── And{¬A, C, D}\n",
       "├── And{A, ¬B, ¬C, ¬D}\n",
       "└── And{B, C, D}\n",
       "</pre>\n"
      ]
     },
     "execution_count": 4,
     "metadata": {},
     "output_type": "execute_result"
    }
   ],
   "execution_count": 4
  },
  {
   "metadata": {
    "ExecuteTime": {
     "end_time": "2025-09-09T01:06:52.015028Z",
     "start_time": "2025-09-09T01:06:52.011694Z"
    }
   },
   "cell_type": "code",
   "source": [
    "from boolexpr.expression.node import tseitin_constraints\n",
    "\n",
    "top_lit, constraints = tseitin_constraints(expression.node, universe.get_next_node)\n"
   ],
   "id": "d15c7cf8c8855be5",
   "outputs": [],
   "execution_count": 5
  },
  {
   "metadata": {
    "ExecuteTime": {
     "end_time": "2025-09-09T01:07:15.361774Z",
     "start_time": "2025-09-09T01:07:15.349880Z"
    }
   },
   "cell_type": "code",
   "source": [
    "forest = universe.show_forest(constraints, title='Tseitin Constraints')\n",
    "print(forest)"
   ],
   "id": "fb7134269a04e85d",
   "outputs": [
    {
     "data": {
      "text/plain": [
       "Tseitin Constraints\n",
       "├── v[4] := Or{C, D}\n",
       "├── v[5] := And{A, ¬B, v[4]}\n",
       "├── v[6] := Or{¬C, ¬D}\n",
       "├── v[7] := Implies{A, B}\n",
       "├── v[8] := And{v[6], v[7]}\n",
       "├── v[9] := Or{v[5], v[8]}\n",
       "└── v[10] := ¬v[9]\n"
      ],
      "text/html": [
       "<pre style=\"white-space:pre;overflow-x:auto;line-height:normal;font-family:Menlo,'DejaVu Sans Mono',consolas,'Courier New',monospace\">Tseitin Constraints\n",
       "├── v[4] := Or{C, D}\n",
       "├── v[5] := And{A, ¬B, v[4]}\n",
       "├── v[6] := Or{¬C, ¬D}\n",
       "├── v[7] := Implies{A, B}\n",
       "├── v[8] := And{v[6], v[7]}\n",
       "├── v[9] := Or{v[5], v[8]}\n",
       "└── v[10] := ¬v[9]\n",
       "</pre>\n"
      ]
     },
     "metadata": {},
     "output_type": "display_data",
     "jetTransient": {
      "display_id": null
     }
    }
   ],
   "execution_count": 6
  }
 ],
 "metadata": {
  "kernelspec": {
   "display_name": "Python 3",
   "language": "python",
   "name": "python3"
  },
  "language_info": {
   "codemirror_mode": {
    "name": "ipython",
    "version": 2
   },
   "file_extension": ".py",
   "mimetype": "text/x-python",
   "name": "python",
   "nbconvert_exporter": "python",
   "pygments_lexer": "ipython2",
   "version": "2.7.6"
  }
 },
 "nbformat": 4,
 "nbformat_minor": 5
}
