{
 "cells": [
  {
   "cell_type": "code",
   "id": "initial_id",
   "metadata": {
    "ExecuteTime": {
     "end_time": "2025-09-07T18:52:40.480069Z",
     "start_time": "2025-09-07T18:52:40.435107Z"
    }
   },
   "source": "%load_ext rich",
   "outputs": [],
   "execution_count": 1
  },
  {
   "metadata": {
    "ExecuteTime": {
     "end_time": "2025-09-07T18:52:41.516251Z",
     "start_time": "2025-09-07T18:52:41.342841Z"
    }
   },
   "cell_type": "code",
   "source": [
    "from boolexpr.universe import Universe\n",
    "\n",
    "universe = Universe()\n",
    "parser = universe.get_parser()"
   ],
   "id": "b7780b8cf1f0ef4b",
   "outputs": [],
   "execution_count": 2
  },
  {
   "metadata": {
    "ExecuteTime": {
     "end_time": "2025-09-07T18:52:43.213431Z",
     "start_time": "2025-09-07T18:52:43.208305Z"
    }
   },
   "cell_type": "code",
   "source": [
    "expression = parser(\"~(A & ~B & (C | D) | (~A | B) & (~C | ~D))\")\n",
    "universe.show(expression)"
   ],
   "id": "d0a27739d5915b9b",
   "outputs": [
    {
     "data": {
      "text/plain": [
       "Not\n",
       "└── Or\n",
       "    ├── And{¬B, A, ...}\n",
       "    │   └── Or{C, D}\n",
       "    └── And\n",
       "        ├── Or{B, ¬A}\n",
       "        └── Or{¬C, ¬D}\n"
      ],
      "text/html": [
       "<pre style=\"white-space:pre;overflow-x:auto;line-height:normal;font-family:Menlo,'DejaVu Sans Mono',consolas,'Courier New',monospace\">Not\n",
       "└── Or\n",
       "    ├── And{¬B, A, ...}\n",
       "    │   └── Or{C, D}\n",
       "    └── And\n",
       "        ├── Or{B, ¬A}\n",
       "        └── Or{¬C, ¬D}\n",
       "</pre>\n"
      ]
     },
     "execution_count": 3,
     "metadata": {},
     "output_type": "execute_result"
    }
   ],
   "execution_count": 3
  },
  {
   "metadata": {
    "ExecuteTime": {
     "end_time": "2025-09-07T18:52:44.188933Z",
     "start_time": "2025-09-07T18:52:44.184182Z"
    }
   },
   "cell_type": "code",
   "source": "universe.show(expression.prime_implicants())",
   "id": "d399d8ea090cfc8e",
   "outputs": [
    {
     "data": {
      "text/plain": [
       "Or\n",
       "├── And{¬B, ¬C, ¬D, A}\n",
       "├── And{B, C, D}\n",
       "└── And{C, D, ¬A}\n"
      ],
      "text/html": [
       "<pre style=\"white-space:pre;overflow-x:auto;line-height:normal;font-family:Menlo,'DejaVu Sans Mono',consolas,'Courier New',monospace\">Or\n",
       "├── And{¬B, ¬C, ¬D, A}\n",
       "├── And{B, C, D}\n",
       "└── And{C, D, ¬A}\n",
       "</pre>\n"
      ]
     },
     "execution_count": 4,
     "metadata": {},
     "output_type": "execute_result"
    }
   ],
   "execution_count": 4
  }
 ],
 "metadata": {
  "kernelspec": {
   "display_name": "Python 3",
   "language": "python",
   "name": "python3"
  },
  "language_info": {
   "codemirror_mode": {
    "name": "ipython",
    "version": 2
   },
   "file_extension": ".py",
   "mimetype": "text/x-python",
   "name": "python",
   "nbconvert_exporter": "python",
   "pygments_lexer": "ipython2",
   "version": "2.7.6"
  }
 },
 "nbformat": 4,
 "nbformat_minor": 5
}
