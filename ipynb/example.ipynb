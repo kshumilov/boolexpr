{
 "cells": [
  {
   "cell_type": "code",
   "id": "initial_id",
   "metadata": {
    "ExecuteTime": {
     "end_time": "2025-09-09T15:09:40.839034Z",
     "start_time": "2025-09-09T15:09:40.834988Z"
    }
   },
   "source": [
    "from rich.jupyter import print\n",
    "from rich import inspect\n",
    "%load_ext rich"
   ],
   "outputs": [
    {
     "name": "stdout",
     "output_type": "stream",
     "text": [
      "The rich extension is already loaded. To reload it, use:\n",
      "  %reload_ext rich\n"
     ]
    }
   ],
   "execution_count": 7
  },
  {
   "metadata": {
    "ExecuteTime": {
     "end_time": "2025-09-09T15:09:42.116077Z",
     "start_time": "2025-09-09T15:09:42.020364Z"
    }
   },
   "cell_type": "code",
   "source": [
    "from boolexpr.universe import Universe\n",
    "\n",
    "universe = Universe()\n",
    "parser = universe.get_parser()\n",
    "\n",
    "# Parse boolean expression\n",
    "expression = parser(\"NOT(A * -B AND (C + D) OR (A -> B) & (!C | NOT D))\")\n",
    "universe.show(expression)"
   ],
   "id": "b7780b8cf1f0ef4b",
   "outputs": [
    {
     "data": {
      "text/plain": [
       "Not\n",
       "└── Or\n",
       "    ├── And{A, ¬B, ...}\n",
       "    │   └── Or{C, D}\n",
       "    └── And\n",
       "        ├── Or{¬C, ¬D}\n",
       "        └── Implies{A, B}\n"
      ],
      "text/html": [
       "<pre style=\"white-space:pre;overflow-x:auto;line-height:normal;font-family:Menlo,'DejaVu Sans Mono',consolas,'Courier New',monospace\">Not\n",
       "└── Or\n",
       "    ├── And{A, ¬B, ...}\n",
       "    │   └── Or{C, D}\n",
       "    └── And\n",
       "        ├── Or{¬C, ¬D}\n",
       "        └── Implies{A, B}\n",
       "</pre>\n"
      ]
     },
     "execution_count": 8,
     "metadata": {},
     "output_type": "execute_result"
    }
   ],
   "execution_count": 8
  },
  {
   "metadata": {
    "ExecuteTime": {
     "end_time": "2025-09-09T15:09:43.977503Z",
     "start_time": "2025-09-09T15:09:43.971970Z"
    }
   },
   "cell_type": "code",
   "source": [
    "# Display its prime implicants\n",
    "universe.show(expression.prime_implicants())"
   ],
   "id": "5eb29317e6b4fe88",
   "outputs": [
    {
     "data": {
      "text/plain": [
       "Or\n",
       "├── And{¬A, C, D}\n",
       "├── And{A, ¬B, ¬C, ¬D}\n",
       "└── And{B, C, D}\n"
      ],
      "text/html": [
       "<pre style=\"white-space:pre;overflow-x:auto;line-height:normal;font-family:Menlo,'DejaVu Sans Mono',consolas,'Courier New',monospace\">Or\n",
       "├── And{¬A, C, D}\n",
       "├── And{A, ¬B, ¬C, ¬D}\n",
       "└── And{B, C, D}\n",
       "</pre>\n"
      ]
     },
     "execution_count": 9,
     "metadata": {},
     "output_type": "execute_result"
    }
   ],
   "execution_count": 9
  },
  {
   "metadata": {
    "ExecuteTime": {
     "end_time": "2025-09-09T15:09:44.890349Z",
     "start_time": "2025-09-09T15:09:44.886895Z"
    }
   },
   "cell_type": "code",
   "source": [
    "from boolexpr.expression.node import tseitin_encoding\n",
    "\n",
    "top_lit, constraints = tseitin_encoding(expression.node, universe.get_next_node)"
   ],
   "id": "d15c7cf8c8855be5",
   "outputs": [],
   "execution_count": 10
  },
  {
   "metadata": {
    "ExecuteTime": {
     "end_time": "2025-09-09T15:09:45.645379Z",
     "start_time": "2025-09-09T15:09:45.639198Z"
    }
   },
   "cell_type": "code",
   "source": [
    "forest = universe.show_forest(constraints, title='Tseitin Constraints')\n",
    "print(forest)"
   ],
   "id": "fb7134269a04e85d",
   "outputs": [
    {
     "data": {
      "text/plain": [
       "Tseitin Constraints\n",
       "├── v[4] := Implies{A, B}\n",
       "├── v[5] := Or{¬C, ¬D}\n",
       "├── v[6] := And{v[5], v[4]}\n",
       "├── v[7] := Or{C, D}\n",
       "├── v[8] := And{A, ¬B, v[7]}\n",
       "├── v[9] := Or{v[8], v[6]}\n",
       "└── v[10] := ¬v[9]\n"
      ],
      "text/html": [
       "<pre style=\"white-space:pre;overflow-x:auto;line-height:normal;font-family:Menlo,'DejaVu Sans Mono',consolas,'Courier New',monospace\">Tseitin Constraints\n",
       "├── v[4] := Implies{A, B}\n",
       "├── v[5] := Or{¬C, ¬D}\n",
       "├── v[6] := And{v[5], v[4]}\n",
       "├── v[7] := Or{C, D}\n",
       "├── v[8] := And{A, ¬B, v[7]}\n",
       "├── v[9] := Or{v[8], v[6]}\n",
       "└── v[10] := ¬v[9]\n",
       "</pre>\n"
      ]
     },
     "metadata": {},
     "output_type": "display_data",
     "jetTransient": {
      "display_id": null
     }
    }
   ],
   "execution_count": 11
  },
  {
   "metadata": {
    "ExecuteTime": {
     "end_time": "2025-09-09T14:30:37.582999Z",
     "start_time": "2025-09-09T14:30:37.569054Z"
    }
   },
   "cell_type": "code",
   "source": [
    "from boolexpr.expression.build import Equal\n",
    "xor = parser(\"[xor]{A B C D}\")\n",
    "root = universe.lit('R')\n",
    "eq = Equal(root, xor).to_cnf()\n",
    "universe.show(eq)"
   ],
   "id": "ee82df8c7023a722",
   "outputs": [
    {
     "data": {
      "text/plain": [
       "And\n",
       "├── Or{¬A, ¬B, ¬C, ¬D, ¬R}\n",
       "├── Or{A, ¬B, ¬C, ¬D, R}\n",
       "├── Or{¬A, B, C, D, R}\n",
       "├── Or{¬A, B, ¬C, ¬D, R}\n",
       "├── Or{A, B, C, ¬D, R}\n",
       "├── Or{¬A, ¬B, C, ¬D, R}\n",
       "├── Or{A, B, ¬C, D, R}\n",
       "├── Or{¬A, ¬B, ¬C, D, R}\n",
       "├── Or{A, ¬B, C, ¬D, ¬R}\n",
       "├── Or{¬A, B, C, ¬D, ¬R}\n",
       "├── Or{A, ¬B, ¬C, D, ¬R}\n",
       "├── Or{¬A, B, ¬C, D, ¬R}\n",
       "├── Or{A, B, C, D, ¬R}\n",
       "├── Or{¬A, ¬B, C, D, ¬R}\n",
       "├── Or{A, B, ¬C, ¬D, ¬R}\n",
       "└── Or{A, ¬B, C, D, R}\n"
      ],
      "text/html": [
       "<pre style=\"white-space:pre;overflow-x:auto;line-height:normal;font-family:Menlo,'DejaVu Sans Mono',consolas,'Courier New',monospace\">And\n",
       "├── Or{¬A, ¬B, ¬C, ¬D, ¬R}\n",
       "├── Or{A, ¬B, ¬C, ¬D, R}\n",
       "├── Or{¬A, B, C, D, R}\n",
       "├── Or{¬A, B, ¬C, ¬D, R}\n",
       "├── Or{A, B, C, ¬D, R}\n",
       "├── Or{¬A, ¬B, C, ¬D, R}\n",
       "├── Or{A, B, ¬C, D, R}\n",
       "├── Or{¬A, ¬B, ¬C, D, R}\n",
       "├── Or{A, ¬B, C, ¬D, ¬R}\n",
       "├── Or{¬A, B, C, ¬D, ¬R}\n",
       "├── Or{A, ¬B, ¬C, D, ¬R}\n",
       "├── Or{¬A, B, ¬C, D, ¬R}\n",
       "├── Or{A, B, C, D, ¬R}\n",
       "├── Or{¬A, ¬B, C, D, ¬R}\n",
       "├── Or{A, B, ¬C, ¬D, ¬R}\n",
       "└── Or{A, ¬B, C, D, R}\n",
       "</pre>\n"
      ]
     },
     "execution_count": 7,
     "metadata": {},
     "output_type": "execute_result"
    }
   ],
   "execution_count": 7
  }
 ],
 "metadata": {
  "kernelspec": {
   "display_name": "Python 3",
   "language": "python",
   "name": "python3"
  },
  "language_info": {
   "codemirror_mode": {
    "name": "ipython",
    "version": 2
   },
   "file_extension": ".py",
   "mimetype": "text/x-python",
   "name": "python",
   "nbconvert_exporter": "python",
   "pygments_lexer": "ipython2",
   "version": "2.7.6"
  }
 },
 "nbformat": 4,
 "nbformat_minor": 5
}
